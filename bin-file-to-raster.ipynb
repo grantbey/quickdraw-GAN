{
 "cells": [
  {
   "cell_type": "code",
   "execution_count": 8,
   "metadata": {},
   "outputs": [],
   "source": [
    "import struct\n",
    "from struct import unpack\n",
    "import numpy as np\n",
    "import h5py\n",
    "import pandas as pd\n",
    "import os\n",
    "\n",
    "from rasterio.features import rasterize\n",
    "from shapely.geometry import LineString, MultiLineString, MultiPolygon\n",
    "from shapely.affinity import scale, rotate\n",
    "\n",
    "from matplotlib import pyplot as plt\n",
    "%matplotlib inline"
   ]
  },
  {
   "cell_type": "code",
   "execution_count": 5,
   "metadata": {
    "collapsed": true
   },
   "outputs": [],
   "source": [
    "def unpack_drawing(file_handle):\n",
    "    key_id, = unpack('Q', file_handle.read(8))\n",
    "    countrycode, = unpack('2s', file_handle.read(2))\n",
    "    recognized, = unpack('b', file_handle.read(1))\n",
    "    timestamp, = unpack('I', file_handle.read(4))\n",
    "    n_strokes, = unpack('H', file_handle.read(2))\n",
    "    image = []\n",
    "    for i in range(n_strokes):\n",
    "        n_points, = unpack('H', file_handle.read(2))\n",
    "        fmt = str(n_points) + 'B'\n",
    "        x = unpack(fmt, file_handle.read(n_points))\n",
    "        y = unpack(fmt, file_handle.read(n_points))\n",
    "        image.append((x, y))\n",
    "\n",
    "    return {\n",
    "        'key_id': key_id,\n",
    "        'countrycode': countrycode,\n",
    "        'recognized': recognized,\n",
    "        'timestamp': timestamp,\n",
    "        'image': image\n",
    "    }\n",
    "\n",
    "\n",
    "def unpack_drawings(filename):\n",
    "    with open(filename, 'rb') as f:\n",
    "        while True:\n",
    "            try:\n",
    "                yield unpack_drawing(f)\n",
    "            except struct.error:\n",
    "                break"
   ]
  },
  {
   "cell_type": "code",
   "execution_count": 21,
   "metadata": {
    "scrolled": true
   },
   "outputs": [
    {
     "data": {
      "text/html": [
       "<div>\n",
       "<table border=\"1\" class=\"dataframe\">\n",
       "  <thead>\n",
       "    <tr style=\"text-align: right;\">\n",
       "      <th></th>\n",
       "      <th>countrycode</th>\n",
       "      <th>image</th>\n",
       "      <th>key_id</th>\n",
       "      <th>recognized</th>\n",
       "      <th>timestamp</th>\n",
       "    </tr>\n",
       "  </thead>\n",
       "  <tbody>\n",
       "    <tr>\n",
       "      <th>0</th>\n",
       "      <td>b'CZ'</td>\n",
       "      <td>[((67, 69, 74, 94, 105, 116, 119, 115, 120, 13...</td>\n",
       "      <td>4.599995e+15</td>\n",
       "      <td>1.0</td>\n",
       "      <td>1.488711e+09</td>\n",
       "    </tr>\n",
       "    <tr>\n",
       "      <th>1</th>\n",
       "      <td>b'CH'</td>\n",
       "      <td>[((99, 84, 80), (3, 25, 56)), ((93, 103, 116, ...</td>\n",
       "      <td>6.746257e+15</td>\n",
       "      <td>1.0</td>\n",
       "      <td>1.485207e+09</td>\n",
       "    </tr>\n",
       "    <tr>\n",
       "      <th>2</th>\n",
       "      <td>b'DE'</td>\n",
       "      <td>[((202, 191, 170, 153, 140, 130, 127, 136, 151...</td>\n",
       "      <td>5.419214e+15</td>\n",
       "      <td>1.0</td>\n",
       "      <td>1.490006e+09</td>\n",
       "    </tr>\n",
       "    <tr>\n",
       "      <th>3</th>\n",
       "      <td>b'SK'</td>\n",
       "      <td>[((0, 24, 42, 48, 48, 52, 66, 72, 88, 130, 152...</td>\n",
       "      <td>5.953291e+15</td>\n",
       "      <td>1.0</td>\n",
       "      <td>1.488577e+09</td>\n",
       "    </tr>\n",
       "    <tr>\n",
       "      <th>4</th>\n",
       "      <td>b'DE'</td>\n",
       "      <td>[((98, 91, 90, 99, 115, 129, 144, 144, 132), (...</td>\n",
       "      <td>5.005193e+15</td>\n",
       "      <td>1.0</td>\n",
       "      <td>1.485547e+09</td>\n",
       "    </tr>\n",
       "  </tbody>\n",
       "</table>\n",
       "</div>"
      ],
      "text/plain": [
       "  countrycode                                              image  \\\n",
       "0       b'CZ'  [((67, 69, 74, 94, 105, 116, 119, 115, 120, 13...   \n",
       "1       b'CH'  [((99, 84, 80), (3, 25, 56)), ((93, 103, 116, ...   \n",
       "2       b'DE'  [((202, 191, 170, 153, 140, 130, 127, 136, 151...   \n",
       "3       b'SK'  [((0, 24, 42, 48, 48, 52, 66, 72, 88, 130, 152...   \n",
       "4       b'DE'  [((98, 91, 90, 99, 115, 129, 144, 144, 132), (...   \n",
       "\n",
       "         key_id  recognized     timestamp  \n",
       "0  4.599995e+15         1.0  1.488711e+09  \n",
       "1  6.746257e+15         1.0  1.485207e+09  \n",
       "2  5.419214e+15         1.0  1.490006e+09  \n",
       "3  5.953291e+15         1.0  1.488577e+09  \n",
       "4  5.005193e+15         1.0  1.485547e+09  "
      ]
     },
     "execution_count": 21,
     "metadata": {},
     "output_type": "execute_result"
    }
   ],
   "source": [
    "df = pd.DataFrame()\n",
    "for drawing in unpack_drawings('./data/octopus.bin'):\n",
    "    df = df.append(drawing,ignore_index=True)\n",
    "df.head()"
   ]
  },
  {
   "cell_type": "code",
   "execution_count": 31,
   "metadata": {
    "scrolled": true
   },
   "outputs": [
    {
     "name": "stdout",
     "output_type": "stream",
     "text": [
      "Writing the file...\n"
     ]
    }
   ],
   "source": [
    "def process_octopus(octopus):\n",
    "    octopus = [list(zip(line[1],line[0])) for line in octopus]\n",
    "    octopus = MultiLineString(octopus)\n",
    "    octopus = MultiPolygon([LineString(line).buffer(1) for line in octopus])\n",
    "    octopus = scale(octopus,xfact=225/256,yfact=225/256,origin='centroid')\n",
    "    octopus = rasterize(octopus, out_shape=(256,256), all_touched=True)\n",
    "    octopus = np.flipud(np.rot90(octopus))[...,np.newaxis]\n",
    "    return octopus\n",
    "\n",
    "filename = '256x256_octopuses'\n",
    "\n",
    "if not os.path.isfile('./data/{}.hdf5'.format(filename)):\n",
    "    h5py.File('./data/{}.hdf5'.format(filename),'w')\n",
    "    print('Writing the file...')\n",
    "\n",
    "with h5py.File('./data/{}.hdf5'.format(filename),'r+') as f:\n",
    "    data = list(df[df.recognized == 1].image.values)\n",
    "    f.require_dataset('rasters',shape=(len(data),256,256,1),dtype='int8')\n",
    "    data = [process_octopus(octopus) for octopus in data]\n",
    "    for i,octopus in enumerate(data):\n",
    "        f['rasters'][i,...] = data[i]\n",
    "    print('Done!')"
   ]
  },
  {
   "cell_type": "code",
   "execution_count": 32,
   "metadata": {},
   "outputs": [
    {
     "name": "stdout",
     "output_type": "stream",
     "text": [
      "(143558, 256, 256, 1)\n"
     ]
    },
    {
     "data": {
      "image/png": "[encoded data removed]",
      "text/plain": [
       "<matplotlib.figure.Figure at 0x7f55dc93d0b8>"
      ]
     },
     "metadata": {},
     "output_type": "display_data"
    }
   ],
   "source": [
    "filename = '256x256_octopuses'\n",
    "with h5py.File('./data/{}.hdf5'.format(filename),'r+') as f:\n",
    "    print(f['rasters'].shape)\n",
    "    plt.imshow(f['rasters'][0,:,:,0], cmap='Greys')\n",
    "    #for name in f:\n",
    "    #    print(name)"
   ]
  },
  {
   "cell_type": "code",
   "execution_count": null,
   "metadata": {
    "collapsed": true
   },
   "outputs": [],
   "source": []
  }
 ],
 "metadata": {
  "anaconda-cloud": {},
  "kernelspec": {
   "display_name": "Python 3",
   "language": "python",
   "name": "python3"
  },
  "language_info": {
   "codemirror_mode": {
    "name": "ipython",
    "version": 3
   },
   "file_extension": ".py",
   "mimetype": "text/x-python",
   "name": "python",
   "nbconvert_exporter": "python",
   "pygments_lexer": "ipython3",
   "version": "3.5.2"
  }
 },
 "nbformat": 4,
 "nbformat_minor": 2
}
